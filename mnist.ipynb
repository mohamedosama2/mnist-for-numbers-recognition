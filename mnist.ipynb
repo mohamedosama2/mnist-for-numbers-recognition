{
 "cells": [
  {
   "cell_type": "code",
   "execution_count": 91,
   "metadata": {},
   "outputs": [],
   "source": [
    "import numpy as np\n",
    "from keras.datasets import mnist\n",
    "from keras.models import Sequential\n",
    "from keras.layers import Dense,Dropout,Flatten\n",
    "from keras.layers.convolutional import Conv2D,MaxPooling2D\n",
    "from keras.callbacks import EarlyStopping,ModelCheckpoint\n",
    "from keras.utils import to_categorical\n",
    "import matplotlib.pyplot as plt"
   ]
  },
  {
   "cell_type": "code",
   "execution_count": 105,
   "metadata": {},
   "outputs": [],
   "source": [
    "#set the random t0 7\n",
    "numpy.random.seed(7)"
   ]
  },
  {
   "cell_type": "code",
   "execution_count": 106,
   "metadata": {},
   "outputs": [],
   "source": [
    "#loading the data set\n",
    "(x_train,y_train), (x_test,y_test) = mnist.load_data()"
   ]
  },
  {
   "cell_type": "code",
   "execution_count": 107,
   "metadata": {},
   "outputs": [
    {
     "data": {
      "image/png": "[encoded data removed]",
      "text/plain": [
       "<Figure size 432x288 with 6 Axes>"
      ]
     },
     "metadata": {
      "needs_background": "light"
     },
     "output_type": "display_data"
    }
   ],
   "source": [
    "#showing some of data\n",
    "fig = plt.figure()\n",
    "fig.subplots_adjust(hspace=0.7, wspace=0.7)\n",
    "for i in range (1,7):\n",
    "    ax = fig.add_subplot(2, 3, i)\n",
    "    plt.imshow(x_train[i].reshape(28,28))\n",
    "    plt.title(y_train[i])"
   ]
  },
  {
   "cell_type": "code",
   "execution_count": 65,
   "metadata": {},
   "outputs": [],
   "source": [
    "#data preprocessing before the model\n",
    "x_train=x_train.reshape(x_train.shape[0],28,28,1).astype('float32')\n",
    "x_test=x_test.reshape(x_test.shape[0],28,28,1).astype('float32')\n",
    "x_train=x_train/255\n",
    "x_test=x_test/255"
   ]
  },
  {
   "cell_type": "code",
   "execution_count": 66,
   "metadata": {},
   "outputs": [],
   "source": [
    "#labels preprocessing\n",
    "y_test=to_categorical(y_test)\n",
    "y_train=to_categorical(y_train)"
   ]
  },
  {
   "cell_type": "code",
   "execution_count": 71,
   "metadata": {},
   "outputs": [
    {
     "name": "stdout",
     "output_type": "stream",
     "text": [
      "_________________________________________________________________\n",
      "Layer (type)                 Output Shape              Param #   \n",
      "=================================================================\n",
      "conv2d_13 (Conv2D)           (None, 24, 24, 30)        780       \n",
      "_________________________________________________________________\n",
      "max_pooling2d_5 (MaxPooling2 (None, 12, 12, 30)        0         \n",
      "_________________________________________________________________\n",
      "conv2d_14 (Conv2D)           (None, 10, 10, 15)        4065      \n",
      "_________________________________________________________________\n",
      "max_pooling2d_6 (MaxPooling2 (None, 5, 5, 15)          0         \n",
      "_________________________________________________________________\n",
      "dropout_3 (Dropout)          (None, 5, 5, 15)          0         \n",
      "_________________________________________________________________\n",
      "flatten_3 (Flatten)          (None, 375)               0         \n",
      "_________________________________________________________________\n",
      "dense_7 (Dense)              (None, 128)               48128     \n",
      "_________________________________________________________________\n",
      "dense_8 (Dense)              (None, 50)                6450      \n",
      "_________________________________________________________________\n",
      "dense_9 (Dense)              (None, 10)                510       \n",
      "=================================================================\n",
      "Total params: 59,933\n",
      "Trainable params: 59,933\n",
      "Non-trainable params: 0\n",
      "_________________________________________________________________\n"
     ]
    }
   ],
   "source": [
    "#the model\n",
    "model=Sequential()\n",
    "\n",
    "#1st convolution layer\n",
    "model.add(Conv2D(30, (5, 5), input_shape=(28,28,1), activation='relu',))\n",
    "model.add(MaxPooling2D(pool_size=(2,2)))\n",
    " \n",
    "#2rd convolution layer\n",
    "model.add(Conv2D(15, (3, 3), activation='relu'))\n",
    "model.add(MaxPooling2D(pool_size=(2,2)))\n",
    "model.add(Dropout(0.2))\n",
    "#flatten\n",
    "model.add(Flatten())\n",
    "#layer 1\n",
    "model.add(Dense(128,activation='relu')) \n",
    "#layer 2\n",
    "model.add(Dense(50,activation='relu'))\n",
    "model.add(Dense(10,activation='softmax'))\n",
    "model.summary()\n",
    "model.compile(loss='categorical_crossentropy', optimizer='adam',metrics=['accuracy'])\n",
    "\n",
    "\n",
    "es=EarlyStopping(monitor='val_loss',mode='min',verbose=1,patience=10,min_delta=0.0001)\n",
    "mc=ModelCheckpoint('best_model2.hdf5',monitor='val_acc',verbose=1,save_best_only=True,mode='max')\n",
    "          "
   ]
  },
  {
   "cell_type": "code",
   "execution_count": 72,
   "metadata": {},
   "outputs": [
    {
     "name": "stdout",
     "output_type": "stream",
     "text": [
      "WARNING:tensorflow:From C:\\Users\\DCLAP\\Anaconda3\\lib\\site-packages\\tensorflow\\python\\ops\\math_ops.py:3066: to_int32 (from tensorflow.python.ops.math_ops) is deprecated and will be removed in a future version.\n",
      "Instructions for updating:\n",
      "Use tf.cast instead.\n",
      "Train on 60000 samples, validate on 10000 samples\n",
      "Epoch 1/10\n",
      "60000/60000 [==============================] - 85s 1ms/step - loss: 0.3942 - acc: 0.8771 - val_loss: 0.0838 - val_acc: 0.9748\n",
      "\n",
      "Epoch 00001: val_acc improved from -inf to 0.97480, saving model to best_model2.hdf5\n",
      "Epoch 2/10\n",
      "60000/60000 [==============================] - 83s 1ms/step - loss: 0.0945 - acc: 0.9706 - val_loss: 0.0522 - val_acc: 0.9825\n",
      "\n",
      "Epoch 00002: val_acc improved from 0.97480 to 0.98250, saving model to best_model2.hdf5\n",
      "Epoch 3/10\n",
      "60000/60000 [==============================] - 86s 1ms/step - loss: 0.0675 - acc: 0.9792 - val_loss: 0.0428 - val_acc: 0.9859\n",
      "\n",
      "Epoch 00003: val_acc improved from 0.98250 to 0.98590, saving model to best_model2.hdf5\n",
      "Epoch 4/10\n",
      "60000/60000 [==============================] - 88s 1ms/step - loss: 0.0578 - acc: 0.9823 - val_loss: 0.0359 - val_acc: 0.9881\n",
      "\n",
      "Epoch 00004: val_acc improved from 0.98590 to 0.98810, saving model to best_model2.hdf5\n",
      "Epoch 5/10\n",
      "60000/60000 [==============================] - 101s 2ms/step - loss: 0.0478 - acc: 0.9849 - val_loss: 0.0322 - val_acc: 0.9901\n",
      "\n",
      "Epoch 00005: val_acc improved from 0.98810 to 0.99010, saving model to best_model2.hdf5\n",
      "Epoch 6/10\n",
      "60000/60000 [==============================] - 89s 1ms/step - loss: 0.0432 - acc: 0.9865 - val_loss: 0.0291 - val_acc: 0.9907\n",
      "\n",
      "Epoch 00006: val_acc improved from 0.99010 to 0.99070, saving model to best_model2.hdf5\n",
      "Epoch 7/10\n",
      "60000/60000 [==============================] - 84s 1ms/step - loss: 0.0388 - acc: 0.9880 - val_loss: 0.0276 - val_acc: 0.9905\n",
      "\n",
      "Epoch 00007: val_acc did not improve from 0.99070\n",
      "Epoch 8/10\n",
      "60000/60000 [==============================] - 84s 1ms/step - loss: 0.0376 - acc: 0.9882 - val_loss: 0.0304 - val_acc: 0.9902\n",
      "\n",
      "Epoch 00008: val_acc did not improve from 0.99070\n",
      "Epoch 9/10\n",
      "60000/60000 [==============================] - 84s 1ms/step - loss: 0.0330 - acc: 0.9898 - val_loss: 0.0274 - val_acc: 0.9912\n",
      "\n",
      "Epoch 00009: val_acc improved from 0.99070 to 0.99120, saving model to best_model2.hdf5\n",
      "Epoch 10/10\n",
      "60000/60000 [==============================] - 84s 1ms/step - loss: 0.0312 - acc: 0.9900 - val_loss: 0.0249 - val_acc: 0.9924\n",
      "\n",
      "Epoch 00010: val_acc improved from 0.99120 to 0.99240, saving model to best_model2.hdf5\n"
     ]
    }
   ],
   "source": [
    "#fitting the data\n",
    "history=model.fit(x_train, y_train, validation_data=(x_test, y_test),callbacks=[es,mc], epochs=10, batch_size=200,verbose=1)"
   ]
  },
  {
   "cell_type": "code",
   "execution_count": 73,
   "metadata": {},
   "outputs": [
    {
     "name": "stdout",
     "output_type": "stream",
     "text": [
      "Test loss: 0.02492847358167637\n",
      "Test accuracy: 0.9924\n"
     ]
    }
   ],
   "source": [
    "test_eval = model.evaluate(x_test, y_test, verbose=0)\n",
    "print('Test loss:', test_eval[0])\n",
    "print('Test accuracy:', test_eval[1])"
   ]
  },
  {
   "cell_type": "code",
   "execution_count": 101,
   "metadata": {},
   "outputs": [
    {
     "name": "stdout",
     "output_type": "stream",
     "text": [
      "[5]\n"
     ]
    },
    {
     "data": {
      "image/png": "[encoded data removed]",
      "text/plain": [
       "<Figure size 432x288 with 1 Axes>"
      ]
     },
     "metadata": {
      "needs_background": "light"
     },
     "output_type": "display_data"
    }
   ],
   "source": [
    "#predicting a sample\n",
    "model.load_weights('best_model2.hdf5')\n",
    "img=x_test[2970]\n",
    "image=img.reshape(1,28,28,1)\n",
    "classa=model.predict_classes(image)\n",
    "print(classa)\n",
    "\n",
    "image=img.reshape(28,28)\n",
    "\n",
    "plt.imshow(image)\n",
    "plt.show()"
   ]
  }
 ],
 "metadata": {
  "kernelspec": {
   "display_name": "Python 3",
   "language": "python",
   "name": "python3"
  },
  "language_info": {
   "codemirror_mode": {
    "name": "ipython",
    "version": 3
   },
   "file_extension": ".py",
   "mimetype": "text/x-python",
   "name": "python",
   "nbconvert_exporter": "python",
   "pygments_lexer": "ipython3",
   "version": "3.6.8"
  }
 },
 "nbformat": 4,
 "nbformat_minor": 2
}
